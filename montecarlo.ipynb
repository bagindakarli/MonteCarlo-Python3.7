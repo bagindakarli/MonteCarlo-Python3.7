{
 "cells": [
  {
   "cell_type": "code",
   "execution_count": 58,
   "metadata": {},
   "outputs": [
    {
     "name": "stdout",
     "output_type": "stream",
     "text": [
      "3.22\n",
      "161\n"
     ]
    }
   ],
   "source": [
    "import numpy as np\n",
    "\n",
    "n = 850\n",
    "total = 200\n",
    "ndart = 0\n",
    "\n",
    "hit = 0\n",
    "for i in range(total):\n",
    "    x = np.random.rand()\n",
    "    y = np.random.rand()\n",
    "    ndart +=1\n",
    "    if x**2 + y**2 <= 1:\n",
    "        hit +=1\n",
    "        \n",
    "pi = (hit/total)*4\n",
    "print(pi)\n",
    "print(hit)"
   ]
  }
 ],
 "metadata": {
  "kernelspec": {
   "display_name": "Python 3",
   "language": "python",
   "name": "python3"
  },
  "language_info": {
   "codemirror_mode": {
    "name": "ipython",
    "version": 3
   },
   "file_extension": ".py",
   "mimetype": "text/x-python",
   "name": "python",
   "nbconvert_exporter": "python",
   "pygments_lexer": "ipython3",
   "version": "3.7.4"
  }
 },
 "nbformat": 4,
 "nbformat_minor": 2
}
